{
 "cells": [
  {
   "cell_type": "code",
   "execution_count": null,
   "metadata": {},
   "outputs": [],
   "source": [
    "x=\"global\"\n",
    "def myfunc():\n",
    "  print(\"inside func=\" + x)\n",
    "myfunc()\n",
    "print(\"outside func=\" + x)"
   ]
  },
  {
   "cell_type": "code",
   "execution_count": null,
   "metadata": {},
   "outputs": [],
   "source": [
    "x=\"global\"\n",
    "def myfunc():\n",
    "  x=\"local\"\n",
    "  print(\"inside func=\" + x)\n",
    "myfunc()\n",
    "print(\"outside func=\" + x)"
   ]
  },
  {
   "cell_type": "code",
   "execution_count": null,
   "metadata": {},
   "outputs": [],
   "source": [
    "x=\"global\"\n",
    "def myfunc():\n",
    "  global x\n",
    "  x=\"local\"\n",
    "  print(\"inside func=\" + x)\n",
    "myfunc()\n",
    "print(\"outside func=\" + x)"
   ]
  },
  {
   "cell_type": "code",
   "execution_count": null,
   "metadata": {},
   "outputs": [],
   "source": [
    "def myfunc():\n",
    "  global x\n",
    "  x=\"local\"\n",
    "  print(\"inside func=\" + x)\n",
    "myfunc()\n",
    "print(\"outside func=\" + x)"
   ]
  }
 ],
 "metadata": {
  "kernelspec": {
   "display_name": "venv",
   "language": "python",
   "name": "python3"
  },
  "language_info": {
   "codemirror_mode": {
    "name": "ipython",
    "version": 3
   },
   "file_extension": ".py",
   "mimetype": "text/x-python",
   "name": "python",
   "nbconvert_exporter": "python",
   "pygments_lexer": "ipython3",
   "version": "3.12.7"
  }
 },
 "nbformat": 4,
 "nbformat_minor": 2
}
