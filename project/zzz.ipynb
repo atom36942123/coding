{
 "cells": [
  {
   "cell_type": "code",
   "execution_count": null,
   "metadata": {},
   "outputs": [],
   "source": [
    "#pdf loader\n",
    "from langchain.document_loaders import PyPDFDirectoryLoader\n",
    "doc_pdf=PyPDFDirectoryLoader(\"../zzz\").load()\n",
    "doc_pdf"
   ]
  },
  {
   "cell_type": "code",
   "execution_count": null,
   "metadata": {},
   "outputs": [],
   "source": [
    "#chunk\n",
    "from langchain.document_loaders import PyPDFDirectoryLoader\n",
    "doc_pdf=PyPDFDirectoryLoader(\"../zzz\").load()\n",
    "\n",
    "from langchain.text_splitter import RecursiveCharacterTextSplitter\n",
    "chunk=RecursiveCharacterTextSplitter(chunk_size=800,chunk_overlap=50).split_documents(doc_pdf)\n",
    "chunk"
   ]
  },
  {
   "cell_type": "code",
   "execution_count": null,
   "metadata": {},
   "outputs": [],
   "source": [
    "#file txt read\n",
    "import os\n",
    "folder_path=\"../docs\"\n",
    "file_list=[]\n",
    "for file_name in os.listdir(folder_path):\n",
    "   if file_name.endswith(\".txt\"):\n",
    "      with open(os.path.join(folder_path,file_name), 'r') as file:\n",
    "         file_list.append({\"name\":file_name,\"data\":file.read()})\n",
    "file_list"
   ]
  },
  {
   "cell_type": "code",
   "execution_count": null,
   "metadata": {},
   "outputs": [],
   "source": [
    "#dotenv\n",
    "from dotenv import load_dotenv\n",
    "import os\n",
    "load_dotenv()\n",
    "print(os.getenv(\"grok_secret_key\"))"
   ]
  },
  {
   "cell_type": "code",
   "execution_count": null,
   "metadata": {},
   "outputs": [],
   "source": [
    "#grok\n",
    "from langchain_groq import ChatGroq\n",
    "llm=ChatGroq(temperature=0,groq_api_key=\"xxx\",model_name=\"llama-3.1-70b-versatile\")\n",
    "response=llm.invoke(\"The first person to land on moon was ...\")\n",
    "response.content"
   ]
  },
  {
   "cell_type": "code",
   "execution_count": null,
   "metadata": {},
   "outputs": [],
   "source": [
    "#request\n",
    "import requests\n",
    "response = requests.get('https://httpbin.org/basic-auth/user/pass', auth=('user', 'pass'))\n",
    "response_2 = requests.get('https://api.github.com/repos/atom36942123/coding')\n",
    "print(response.status_code)\n",
    "print(response.text)\n",
    "print(response.json())\n",
    "print(response_2.json()[\"full_name\"])"
   ]
  }
 ],
 "metadata": {
  "kernelspec": {
   "display_name": "venv",
   "language": "python",
   "name": "python3"
  },
  "language_info": {
   "codemirror_mode": {
    "name": "ipython",
    "version": 3
   },
   "file_extension": ".py",
   "mimetype": "text/x-python",
   "name": "python",
   "nbconvert_exporter": "python",
   "pygments_lexer": "ipython3",
   "version": "3.12.7"
  }
 },
 "nbformat": 4,
 "nbformat_minor": 2
}
