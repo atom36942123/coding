{
 "cells": [
  {
   "cell_type": "code",
   "execution_count": null,
   "metadata": {},
   "outputs": [],
   "source": [
    "#client\n",
    "import redis.asyncio as redis\n",
    "pool = redis.ConnectionPool.from_url(\"redis://localhost\")\n",
    "client = redis.Redis(connection_pool=pool)\n",
    "\n",
    "#logic\n",
    "async with client.pipeline(transaction=True) as pipe:\n",
    "    ok1, ok2 = await (pipe.set(\"atom1\", \"xxx\").set(\"atom2\", \"yyy\").execute())\n",
    "    x=await pipe.get('atom2').execute()\n",
    "    print(x)\n",
    "\n",
    "#close\n",
    "await client.aclose()\n",
    "await pool.aclose()"
   ]
  }
 ],
 "metadata": {
  "kernelspec": {
   "display_name": "venv",
   "language": "python",
   "name": "python3"
  },
  "language_info": {
   "codemirror_mode": {
    "name": "ipython",
    "version": 3
   },
   "file_extension": ".py",
   "mimetype": "text/x-python",
   "name": "python",
   "nbconvert_exporter": "python",
   "pygments_lexer": "ipython3",
   "version": "3.12.7"
  }
 },
 "nbformat": 4,
 "nbformat_minor": 2
}
