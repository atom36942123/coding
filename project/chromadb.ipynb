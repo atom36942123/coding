{
 "cells": [
  {
   "cell_type": "code",
   "execution_count": null,
   "metadata": {},
   "outputs": [],
   "source": [
    "#client\n",
    "import chromadb\n",
    "client=chromadb.Client().get_or_create_collection(name=\"my_collection\")\n",
    "\n",
    "#document\n",
    "documents=[\"This is a document about cat\", \"This is a document about car\", \"This is a document about bike\"]\n",
    "ids=[\"id1\", \"id2\",\"id3\"]\n",
    "metadatas=[{\"category\": \"animal\"}, {\"category\": \"vehicle\"}, {\"category\": \"vehicle\"}]\n",
    "\n",
    "#add\n",
    "client.add(documents=documents,ids=ids,metadatas=metadatas)\n",
    "\n",
    "#search\n",
    "result=client.query(query_texts=[\"vehicle\"],n_results=1)\n",
    "result"
   ]
  },
  {
   "cell_type": "code",
   "execution_count": null,
   "metadata": {},
   "outputs": [],
   "source": [
    "#client\n",
    "import chromadb\n",
    "client=chromadb.Client().get_or_create_collection(name=\"my_collection\")\n",
    "\n",
    "#document\n",
    "documents=[\"This is a document about cat\", \"This is a document about car\", \"This is a document about bike\"]\n",
    "ids=[\"id1\", \"id2\",\"id3\"]\n",
    "metadatas=[{\"category\": \"animal\"}, {\"category\": \"vehicle\"}, {\"category\": \"vehicle\"}]\n",
    "\n",
    "#embeedings using sentence transformer\n",
    "from sentence_transformers import SentenceTransformer\n",
    "client_sentence_transformer=SentenceTransformer('paraphrase-MiniLM-L3-v2')\n",
    "embeddings=[]\n",
    "for item in documents:embeddings.append(client_sentence_transformer.encode(item).tolist())\n",
    "\n",
    "#add\n",
    "client.add(documents=documents,ids=ids,metadatas=metadatas,embeddings=embeddings)\n",
    "\n",
    "#search\n",
    "embedding=client_sentence_transformer.encode(\"vehicle\").tolist()\n",
    "results=client.query(query_embeddings=[embedding],n_results=1)\n",
    "results"
   ]
  }
 ],
 "metadata": {
  "kernelspec": {
   "display_name": "venv",
   "language": "python",
   "name": "python3"
  },
  "language_info": {
   "codemirror_mode": {
    "name": "ipython",
    "version": 3
   },
   "file_extension": ".py",
   "mimetype": "text/x-python",
   "name": "python",
   "nbconvert_exporter": "python",
   "pygments_lexer": "ipython3",
   "version": "3.12.7"
  }
 },
 "nbformat": 4,
 "nbformat_minor": 2
}
